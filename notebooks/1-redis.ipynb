{
 "cells": [
  {
   "cell_type": "markdown",
   "metadata": {},
   "source": [
    "# Redis tutorial"
   ]
  },
  {
   "cell_type": "markdown",
   "metadata": {},
   "source": [
    "## Prerequisites"
   ]
  },
  {
   "cell_type": "markdown",
   "metadata": {},
   "source": [
    "### Documentation\n",
    "\n",
    "You will find all documentation for :\n",
    "* [Redis commands](https://redis.io/commands)\n",
    "* [Redis python client](https://redis-py.readthedocs.io/en/latest/)\n",
    "\n",
    "Though the tutorial asks you to use Redis commands, they all have an equivalent in the Python client library."
   ]
  },
  {
   "cell_type": "markdown",
   "metadata": {},
   "source": [
    "### Import libraries"
   ]
  },
  {
   "cell_type": "code",
   "execution_count": 1,
   "metadata": {},
   "outputs": [],
   "source": [
    "import redis"
   ]
  },
  {
   "cell_type": "code",
   "execution_count": 2,
   "metadata": {},
   "outputs": [],
   "source": [
    "r = redis.Redis(host='localhost', port=6379)"
   ]
  },
  {
   "cell_type": "code",
   "execution_count": 3,
   "metadata": {},
   "outputs": [
    {
     "name": "stdout",
     "output_type": "stream",
     "text": [
      "b'bar'\n"
     ]
    }
   ],
   "source": [
    "r.set('foo', 'bar')\n",
    "value = r.get('foo')\n",
    "print(value)"
   ]
  },
  {
   "cell_type": "markdown",
   "metadata": {},
   "source": [
    "You can launch a terminal aside, connect to your server with a Redis client and check that the value is still present :\n",
    "\n",
    "```bash\n",
    "vagrant@nosql:~$ redis-cli\n",
    "127.0.0.1:6379> get foo\n",
    "\"bar\"\n",
    "```"
   ]
  },
  {
   "cell_type": "markdown",
   "metadata": {},
   "source": [
    "## I. Quick start"
   ]
  },
  {
   "cell_type": "markdown",
   "metadata": {},
   "source": [
    "### Strings and numbers"
   ]
  },
  {
   "cell_type": "markdown",
   "metadata": {},
   "source": [
    "**Q** : Store the string `hello world` in key `greetings` with a `SET` command. Then use a `GET` command to retrieve it."
   ]
  },
  {
   "cell_type": "code",
   "execution_count": 4,
   "metadata": {},
   "outputs": [
    {
     "name": "stdout",
     "output_type": "stream",
     "text": [
      "b'hello world'\n"
     ]
    }
   ],
   "source": [
    "r.set('greetings', 'hello world')\n",
    "value = r.get('greetings')\n",
    "print(value)"
   ]
  },
  {
   "cell_type": "markdown",
   "metadata": {},
   "source": [
    "**Q** : Create a `connections` key with value 0. Find the `INCR` command to increment its value, then display it. \n",
    "\n",
    "Try to increment the value for `greetings`."
   ]
  },
  {
   "cell_type": "code",
   "execution_count": 5,
   "metadata": {},
   "outputs": [
    {
     "name": "stdout",
     "output_type": "stream",
     "text": [
      "b'1'\n"
     ]
    }
   ],
   "source": [
    "r.set('connections', 0)\n",
    "r.incr('connections')\n",
    "print(r.get('connections'))"
   ]
  },
  {
   "cell_type": "markdown",
   "metadata": {},
   "source": [
    "### Lists"
   ]
  },
  {
   "cell_type": "markdown",
   "metadata": {},
   "source": [
    "**Q** : Create a `colors` list with strings `red`, `black` and `blue`, using the `RPUSH` command."
   ]
  },
  {
   "cell_type": "code",
   "execution_count": 6,
   "metadata": {},
   "outputs": [
    {
     "data": {
      "text/plain": [
       "3"
      ]
     },
     "execution_count": 6,
     "metadata": {},
     "output_type": "execute_result"
    }
   ],
   "source": [
    "colors = 'colors'\n",
    "r.delete(colors)\n",
    "r.rpush(colors, 'red', 'black', 'blue')"
   ]
  },
  {
   "cell_type": "markdown",
   "metadata": {},
   "source": [
    "**Q** : Display the second element of the list with `LINDEX`"
   ]
  },
  {
   "cell_type": "code",
   "execution_count": 7,
   "metadata": {},
   "outputs": [
    {
     "name": "stdout",
     "output_type": "stream",
     "text": [
      "b'black'\n"
     ]
    }
   ],
   "source": [
    "print(r.lindex(colors, 1))"
   ]
  },
  {
   "cell_type": "markdown",
   "metadata": {},
   "source": [
    "**Q** : Display the full list with `LRANGE`"
   ]
  },
  {
   "cell_type": "code",
   "execution_count": 8,
   "metadata": {},
   "outputs": [
    {
     "data": {
      "text/plain": [
       "[b'red', b'black', b'blue']"
      ]
     },
     "execution_count": 8,
     "metadata": {},
     "output_type": "execute_result"
    }
   ],
   "source": [
    "r.lrange(colors, 0, 2)"
   ]
  },
  {
   "cell_type": "markdown",
   "metadata": {},
   "source": [
    "### Using sets"
   ]
  },
  {
   "cell_type": "markdown",
   "metadata": {},
   "source": [
    "**Q** : Create a `nosql` set containing values `redis`, `mongodb` and `orientdb`, using the `SADD` command."
   ]
  },
  {
   "cell_type": "code",
   "execution_count": 9,
   "metadata": {},
   "outputs": [
    {
     "data": {
      "text/plain": [
       "3"
      ]
     },
     "execution_count": 9,
     "metadata": {},
     "output_type": "execute_result"
    }
   ],
   "source": [
    "r.delete('nosql')\n",
    "r.sadd('nosql', 'redis', 'mongodb', 'orientdb')"
   ]
  },
  {
   "cell_type": "markdown",
   "metadata": {},
   "source": [
    "**Q** : Test if `mysql` is inside the set, using `SISMEMBER`"
   ]
  },
  {
   "cell_type": "code",
   "execution_count": 10,
   "metadata": {},
   "outputs": [
    {
     "data": {
      "text/plain": [
       "0"
      ]
     },
     "execution_count": 10,
     "metadata": {},
     "output_type": "execute_result"
    }
   ],
   "source": [
    "r.sismember('nosql', 'mysql')"
   ]
  },
  {
   "cell_type": "markdown",
   "metadata": {},
   "source": [
    "**Q** : Add `hbase` to the set with `SADD`, then display all elements of the set with `SMEMBERS`. Try to add `redis` again and see what happens."
   ]
  },
  {
   "cell_type": "code",
   "execution_count": 11,
   "metadata": {},
   "outputs": [
    {
     "name": "stdout",
     "output_type": "stream",
     "text": [
      "{b'redis', b'mongodb', b'orientdb', b'hbase'}\n"
     ]
    }
   ],
   "source": [
    "r.sadd('nosql', 'hbase')\n",
    "print(r.smembers('nosql'))"
   ]
  },
  {
   "cell_type": "markdown",
   "metadata": {},
   "source": [
    "### Using sorted sets\n",
    "\n",
    "Sorted Sets are similar to Redis Sets with the unique feature of values stored in a set. The difference is, every member of a Sorted Set is associated with a score, that is used in order to take the sorted set ordered, from the smallest to the greatest score."
   ]
  },
  {
   "cell_type": "markdown",
   "metadata": {},
   "source": [
    "**Q** : Using `ZADD`, create a sorted set `top14` with the following entries :\n",
    "\n",
    "```\n",
    "score city\n",
    "10 Agen \n",
    "33 Bordeaux \n",
    "32 Brive \n",
    "29 Castres \n",
    "38 Clermont \n",
    "24 Grenoble \n",
    "26 La Rochelle \n",
    "32 Montpellier \n",
    "14 Oyonnax \n",
    "20 Pau \n",
    "40 Racing \n",
    "22 Stade Français \n",
    "36 Toulon \n",
    "36 Toulouse\n",
    "```"
   ]
  },
  {
   "cell_type": "code",
   "execution_count": 12,
   "metadata": {},
   "outputs": [],
   "source": [
    "cities = {\n",
    "    'Agen' : 10, 'Bordeaux' : 33, 'Brive' : 32, 'Castres' : 29, 'Clermont' : 38,\n",
    "    'Grenoble' : 24, 'La Rochelle' : 26, 'Montpellier' : 32, 'Oyonnax' : 14, 'Pau' : 20,\n",
    "    'Racing' : 40, 'Stade Français' : 22, 'Toulon' : 36, 'Toulouse': 36\n",
    "}"
   ]
  },
  {
   "cell_type": "code",
   "execution_count": 13,
   "metadata": {},
   "outputs": [
    {
     "data": {
      "text/plain": [
       "0"
      ]
     },
     "execution_count": 13,
     "metadata": {},
     "output_type": "execute_result"
    }
   ],
   "source": [
    "r.delete('top14')"
   ]
  },
  {
   "cell_type": "code",
   "execution_count": 14,
   "metadata": {},
   "outputs": [],
   "source": [
    "for city, score in cities.items():\n",
    "    r.zadd('top14', {city: score})"
   ]
  },
  {
   "cell_type": "markdown",
   "metadata": {},
   "source": [
    "**Q** : Fetch the score for `Toulon` with `ZSCORE`, and its ranking with `ZRANK`."
   ]
  },
  {
   "cell_type": "code",
   "execution_count": 15,
   "metadata": {},
   "outputs": [
    {
     "name": "stdout",
     "output_type": "stream",
     "text": [
      "36.0\n",
      "10\n"
     ]
    }
   ],
   "source": [
    "print(r.zscore('top14', 'Toulon'))\n",
    "print(r.zrank('top14', 'Toulon'))"
   ]
  },
  {
   "cell_type": "markdown",
   "metadata": {},
   "source": [
    "**Q** : `ZRANK` starts at 0 and scores are sorted from lowest to highest, so we should use the `ZREVRANK` for a true ranking of our cities."
   ]
  },
  {
   "cell_type": "code",
   "execution_count": 16,
   "metadata": {},
   "outputs": [
    {
     "name": "stdout",
     "output_type": "stream",
     "text": [
      "[b'Racing', b'Clermont', b'Toulouse', b'Toulon', b'Bordeaux', b'Montpellier', b'Brive', b'Castres', b'La Rochelle', b'Grenoble', b'Stade Fran\\xc3\\xa7ais', b'Pau', b'Oyonnax', b'Agen']\n"
     ]
    }
   ],
   "source": [
    "print(r.zrevrange('top14', 0, 14))"
   ]
  },
  {
   "cell_type": "markdown",
   "metadata": {},
   "source": [
    "**Q** : Find the commands to display :\n",
    "* the 3 best teams\n",
    "* teams with more than 35 points"
   ]
  },
  {
   "cell_type": "code",
   "execution_count": 17,
   "metadata": {},
   "outputs": [
    {
     "data": {
      "text/plain": [
       "[b'Racing', b'Clermont', b'Toulouse']"
      ]
     },
     "execution_count": 17,
     "metadata": {},
     "output_type": "execute_result"
    }
   ],
   "source": [
    "r.zrevrange('top14', 0, 2)"
   ]
  },
  {
   "cell_type": "code",
   "execution_count": 18,
   "metadata": {},
   "outputs": [
    {
     "data": {
      "text/plain": [
       "[b'Toulon', b'Toulouse', b'Clermont', b'Racing']"
      ]
     },
     "execution_count": 18,
     "metadata": {},
     "output_type": "execute_result"
    }
   ],
   "source": [
    "# Todo: replace 100 by max score of set\n",
    "r.zrangebyscore('top14', min=35, max=100)"
   ]
  },
  {
   "cell_type": "markdown",
   "metadata": {},
   "source": [
    "### Using dictionaries"
   ]
  },
  {
   "cell_type": "markdown",
   "metadata": {},
   "source": [
    "**Q** : Create a dictionary `user:1` with `HMSET` with properties `id (1), name (Jean), age (22)`. Display it with `HGETALL`"
   ]
  },
  {
   "cell_type": "code",
   "execution_count": 19,
   "metadata": {},
   "outputs": [
    {
     "name": "stdout",
     "output_type": "stream",
     "text": [
      "{b'id': b'1', b'name': b'Jean', b'age': b'22'}\n"
     ]
    },
    {
     "name": "stderr",
     "output_type": "stream",
     "text": [
      "/var/folders/p1/rvvwk6r96h3bxxgql7f7p5ch0000gn/T/ipykernel_32486/3859370960.py:1: DeprecationWarning: Redis.hmset() is deprecated. Use Redis.hset() instead.\n",
      "  r.hmset('user:1', {'id': 1, 'name': 'Jean', 'age': 22})\n"
     ]
    }
   ],
   "source": [
    "r.hmset('user:1', {'id': 1, 'name': 'Jean', 'age': 22})\n",
    "print(r.hgetall('user:1'))"
   ]
  },
  {
   "cell_type": "markdown",
   "metadata": {},
   "source": [
    "**Q** : Add a `city (Lyon)` property and rename the user from `Jean` to `Paul`."
   ]
  },
  {
   "cell_type": "code",
   "execution_count": 20,
   "metadata": {},
   "outputs": [
    {
     "name": "stdout",
     "output_type": "stream",
     "text": [
      "{b'id': b'1', b'name': b'Paul', b'age': b'22', b'city': b'Lyon'}\n"
     ]
    }
   ],
   "source": [
    "r.hset('user:1', 'city', 'Lyon', {'name': 'Paul'})\n",
    "print(r.hgetall('user:1'))"
   ]
  },
  {
   "cell_type": "markdown",
   "metadata": {},
   "source": [
    "## Modelling a query cache with Redis\n",
    "\n",
    "You are modeling data from a REST query cache system with Redis.\n",
    "A request is identified by the http method and its url (without the protocol).\n",
    "The content of the request is stored as it is to be returned on demand."
   ]
  },
  {
   "cell_type": "markdown",
   "metadata": {},
   "source": [
    "**Q** : Insert a PUT request in the cache on http://my-api.fr/user/10 whose answer is {\"id\": 10, \"name\": \"jean\"}"
   ]
  },
  {
   "cell_type": "code",
   "execution_count": 21,
   "metadata": {},
   "outputs": [
    {
     "name": "stdout",
     "output_type": "stream",
     "text": [
      "{b'response': b'{\"id\": 10, \"name\": \"jean\"}'}\n"
     ]
    }
   ],
   "source": [
    "r.hset('PUT:my-api.fr/user/10', mapping={'response': '{\"id\": 10, \"name\": \"jean\"}'})\n",
    "print(r.hgetall('PUT:my-api.fr/user/10'))"
   ]
  },
  {
   "cell_type": "markdown",
   "metadata": {},
   "source": [
    "**Q** : Insert a GET request in the cache on http://my-api.fr/user?size=2 whose answer is[{\"id\": 10, \"name\": jean}, {\"id\": 11, \"name\": \"Claire\"}]"
   ]
  },
  {
   "cell_type": "code",
   "execution_count": 22,
   "metadata": {},
   "outputs": [
    {
     "name": "stdout",
     "output_type": "stream",
     "text": [
      "{b'response': b'{[{\"id\": 10, \"name\": \"jean\"}, {\"id\": 11, \"name\": \"Claire\"}]}'}\n"
     ]
    }
   ],
   "source": [
    "r.hset('GET:my-api.fr/user?size=2', mapping={'response': '{[{\"id\": 10, \"name\": \"jean\"}, {\"id\": 11, \"name\": \"Claire\"}]}'})\n",
    "print(r.hgetall('GET:my-api.fr/user?size=2'))"
   ]
  },
  {
   "cell_type": "markdown",
   "metadata": {},
   "source": [
    "**Q** : Create a set of cache request keys."
   ]
  },
  {
   "cell_type": "code",
   "execution_count": 23,
   "metadata": {},
   "outputs": [
    {
     "data": {
      "text/plain": [
       "[b'PUT:my-api.fr/user/10', b'GET:my-api.fr/user?size=2']"
      ]
     },
     "execution_count": 23,
     "metadata": {},
     "output_type": "execute_result"
    }
   ],
   "source": [
    "requests = [key for key in r.keys() if \"my-api.fr\" in str(key)]\n",
    "requests"
   ]
  },
  {
   "cell_type": "markdown",
   "metadata": {},
   "source": [
    "**Q** : Check if the GET request on http: //http://my-api.fr/user"
   ]
  },
  {
   "cell_type": "code",
   "execution_count": 24,
   "metadata": {},
   "outputs": [
    {
     "data": {
      "text/plain": [
       "0"
      ]
     },
     "execution_count": 24,
     "metadata": {},
     "output_type": "execute_result"
    }
   ],
   "source": [
    "r.exists('GET:my-api.fr/user')"
   ]
  },
  {
   "cell_type": "markdown",
   "metadata": {},
   "source": [
    "**Q** : Delete the PUT request on http://my-api.fr/user/10 from the cache."
   ]
  },
  {
   "cell_type": "code",
   "execution_count": 25,
   "metadata": {},
   "outputs": [
    {
     "data": {
      "text/plain": [
       "0"
      ]
     },
     "execution_count": 25,
     "metadata": {},
     "output_type": "execute_result"
    }
   ],
   "source": [
    "r.delete('my-api.fr/user/10')"
   ]
  },
  {
   "cell_type": "markdown",
   "metadata": {},
   "source": [
    "## Postquisites\n",
    "\n",
    "The folloinwg command removes all data from your Redis cluster."
   ]
  },
  {
   "cell_type": "code",
   "execution_count": 26,
   "metadata": {},
   "outputs": [
    {
     "data": {
      "text/plain": [
       "True"
      ]
     },
     "execution_count": 26,
     "metadata": {},
     "output_type": "execute_result"
    }
   ],
   "source": [
    "r.flushall()\n",
    "# !redis-cli flushall"
   ]
  }
 ],
 "metadata": {
  "kernelspec": {
   "display_name": "Python 3",
   "language": "python",
   "name": "python3"
  },
  "language_info": {
   "codemirror_mode": {
    "name": "ipython",
    "version": 3
   },
   "file_extension": ".py",
   "mimetype": "text/x-python",
   "name": "python",
   "nbconvert_exporter": "python",
   "pygments_lexer": "ipython3",
   "version": "3.11.6"
  }
 },
 "nbformat": 4,
 "nbformat_minor": 2
}
