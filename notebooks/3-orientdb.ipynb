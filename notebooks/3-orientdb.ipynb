{
 "cells": [
  {
   "cell_type": "markdown",
   "metadata": {},
   "source": [
    "# OrientDB tutorial"
   ]
  },
  {
   "cell_type": "markdown",
   "metadata": {},
   "source": [
    "## Prerequisites"
   ]
  },
  {
   "cell_type": "markdown",
   "metadata": {},
   "source": [
    "### Documentation\n",
    "\n",
    "You will find all documentation for :\n",
    "* [OrientDB SQL reference](http://www.orientdb.com/docs/last/SQL-Functions.html)\n",
    "* [Orientdb python client](http://orientdb.com/docs/last/PyOrient-Client.html#working-with-the-client)"
   ]
  },
  {
   "cell_type": "markdown",
   "metadata": {},
   "source": [
    "## Import libraries"
   ]
  },
  {
   "cell_type": "code",
   "execution_count": 1,
   "metadata": {},
   "outputs": [],
   "source": [
    "import pyorient"
   ]
  },
  {
   "cell_type": "code",
   "execution_count": 2,
   "metadata": {},
   "outputs": [],
   "source": [
    "ROOT_PASSWORD = \"root\"\n",
    "client = pyorient.OrientDB(\"localhost\", 2424)\n",
    "session_id = client.connect(\"root\", ROOT_PASSWORD)"
   ]
  },
  {
   "cell_type": "code",
   "execution_count": 3,
   "metadata": {},
   "outputs": [
    {
     "name": "stdout",
     "output_type": "stream",
     "text": [
      "{{'databases': {}}}\n"
     ]
    }
   ],
   "source": [
    "print(client.db_list())"
   ]
  },
  {
   "cell_type": "markdown",
   "metadata": {},
   "source": [
    "## I. Quick start"
   ]
  },
  {
   "cell_type": "markdown",
   "metadata": {},
   "source": [
    "### Creating the database"
   ]
  },
  {
   "cell_type": "markdown",
   "metadata": {},
   "source": [
    "**Q:** Create a database `gods` as a `GRAPH_DATABASE` in `MEMORY_STORAGE_TYPE`. \n",
    "\n",
    "We will use it to store relationships between Greek deities."
   ]
  },
  {
   "cell_type": "code",
   "execution_count": 4,
   "metadata": {},
   "outputs": [],
   "source": [
    "client.db_create(name='gods', type=pyorient.DB_TYPE_GRAPH, storage=pyorient.STORAGE_TYPE_MEMORY)"
   ]
  },
  {
   "cell_type": "markdown",
   "metadata": {},
   "source": [
    "**Q:** Connect your pyorient client to the `gods` database."
   ]
  },
  {
   "cell_type": "code",
   "execution_count": 5,
   "metadata": {},
   "outputs": [],
   "source": [
    "cluster_id = client.db_open('gods', \"root\", \"root\" )"
   ]
  },
  {
   "cell_type": "markdown",
   "metadata": {},
   "source": [
    "**Q:** You should now be able to launch OrientDB queries through the Python client with the [command()](http://orientdb.com/docs/last/PyOrient-Client-Command.html) function. \n",
    "\n",
    "You should think of OrientDB as a Graph-Document database for the following questions. Each vertex and edge will contain information on it inside a JSON document.\n",
    "\n",
    "Create a new Vertex with content `{name: 'Zeus', symbol: 'thunder'}`. The [CREATE VERTEX : Create a vertex using JSON content](http://orientdb.com/docs/last/SQL-Create-Vertex.html) doc page should help you."
   ]
  },
  {
   "cell_type": "code",
   "execution_count": 6,
   "metadata": {},
   "outputs": [],
   "source": [
    "cluster_id = client.command( \"create vertex set name = 'Zeus', symbol = 'thunder'\" )"
   ]
  },
  {
   "cell_type": "markdown",
   "metadata": {},
   "source": [
    "You have created a VERTEX in the previous question. The VERTEX is a [class](https://orientdb.com/docs/last/Tutorial-Classes.html) of OrientDB which defines a record that can be linked to others through EDGE instances.\n",
    "\n",
    "You can find all VERTEX created in the database with a SQL command on the `V` table, like `SELECT * FROM V`. \n",
    "\n",
    "**Q:** Print all current vertices in `gods`, it should only have `Zeus` though for now."
   ]
  },
  {
   "cell_type": "code",
   "execution_count": 7,
   "metadata": {},
   "outputs": [
    {
     "name": "stdout",
     "output_type": "stream",
     "text": [
      "Zeus\n"
     ]
    }
   ],
   "source": [
    "vertices = client.command( \"SELECT * FROM V\" )\n",
    "for v in vertices:\n",
    "    print(v.name)"
   ]
  },
  {
   "cell_type": "markdown",
   "metadata": {},
   "source": [
    "**Q:** Create new vertices with content : \n",
    "```\n",
    "{name:Héra, symbol:tiara}\n",
    "{name:Poséidon, symbol:trident}\n",
    "{name:Athena, symbol:helmet}\n",
    "{name:Arès, symbol:weapons} \n",
    "```"
   ]
  },
  {
   "cell_type": "code",
   "execution_count": 8,
   "metadata": {},
   "outputs": [],
   "source": [
    "gods = [('Héra', 'tiara'), ('Poséidon', 'trident'),\n",
    "        ('Athena', 'helmet'), ('Arès', 'weapons')]\n",
    "for name, symbol in gods:\n",
    "    client.command(f\"create vertex set name = '{name}', symbol = '{symbol}'\" )"
   ]
  },
  {
   "cell_type": "markdown",
   "metadata": {},
   "source": [
    "**Q:** Display all vertices with name = `Arès`"
   ]
  },
  {
   "cell_type": "code",
   "execution_count": 9,
   "metadata": {},
   "outputs": [
    {
     "name": "stdout",
     "output_type": "stream",
     "text": [
      "Arès {'@V':{'name': 'Arès', 'symbol': 'weapons'},'version':1,'rid':'#13:0'}\n"
     ]
    }
   ],
   "source": [
    "vertices = client.command( \"SELECT * FROM V WHERE name = 'Arès'\" )\n",
    "for v in vertices:\n",
    "    print(v.name, v)"
   ]
  },
  {
   "cell_type": "markdown",
   "metadata": {},
   "source": [
    "**Q:** Create an EDGE from `Zeus` to `Poséidon` with the content `{kind: 'sibling'}"
   ]
  },
  {
   "cell_type": "code",
   "execution_count": 10,
   "metadata": {},
   "outputs": [],
   "source": [
    "zeus_to_poseidon = client.command(\"CREATE EDGE FROM (SELECT * FROM V WHERE name = 'Zeus') TO (SELECT * FROM V WHERE name = 'Poséidon') set kind = 'sibling'\")"
   ]
  },
  {
   "cell_type": "markdown",
   "metadata": {},
   "source": [
    "**Q:** Redisplay all vertices, discuss."
   ]
  },
  {
   "cell_type": "code",
   "execution_count": 11,
   "metadata": {},
   "outputs": [
    {
     "name": "stdout",
     "output_type": "stream",
     "text": [
      "Zeus\n",
      "Héra\n",
      "Poséidon\n",
      "Athena\n",
      "Arès\n"
     ]
    }
   ],
   "source": [
    "vertices = client.command( \"SELECT * FROM V\" )\n",
    "for v in vertices:\n",
    "    print(v.name)"
   ]
  },
  {
   "cell_type": "markdown",
   "metadata": {},
   "source": [
    "**Q:** Display all edges. They are contained in the class `E`"
   ]
  },
  {
   "cell_type": "code",
   "execution_count": 12,
   "metadata": {},
   "outputs": [
    {
     "name": "stdout",
     "output_type": "stream",
     "text": [
      "#9:0\n"
     ]
    }
   ],
   "source": [
    "edges = client.command( \"SELECT * FROM E\" )\n",
    "for e in edges:\n",
    "    print(e.out)"
   ]
  },
  {
   "cell_type": "markdown",
   "metadata": {},
   "source": [
    "Two fields on vertices have appeared, containing the outgoing (out_) and incoming (in_) links.\n",
    "\n",
    "At the edge level, two fields point to the original (out) and destination (in) vertices.\n",
    "\n",
    "**Q:** Lets create some more edges :\n",
    "\n",
    "* Zeus > Héra (sibling)\n",
    "* Zeus > Arès (father)\n",
    "* Zeus > Athena (father)\n",
    "* Héra > Arès (mother)\n",
    "* Héra > Zeus (sibling)\n",
    "* Poséidon > Zeus (sibling)\n",
    "\n",
    "_Hint 1 :_ check [the CREATE EDGE doc page](http://orientdb.com/docs/last/SQL-Create-Edge.html) to find an example for creating edges on vertices using subqueries so you can run queries to fetch the vertices before creating an edge in between.\n",
    "\n",
    "_Hint 2 :_ after you have found the command to create edges between vertices with sub-queries, you should be well-versed enough in Python to create a list of all edges in the question, and loop the command on each element of the list to create all edges in one go =)"
   ]
  },
  {
   "cell_type": "code",
   "execution_count": 13,
   "metadata": {},
   "outputs": [],
   "source": [
    "_edges = [('Zeus', 'Héra', 'sibling'), ('Zeus', 'Arès', 'father'),\n",
    "            ('Zeus', 'Athena', 'father'), ('Héra', 'Arès', 'mother'),\n",
    "            ('Héra', 'Zeus', 'sibling'), ('Poséidon', 'Zeus', 'sibling')]\n",
    "for _from, _to, _kind in _edges:\n",
    "    client.command(f\"CREATE EDGE FROM (SELECT FROM V WHERE name = '{_from}') TO (SELECT FROM V WHERE name = '{_to}') SET kind = '{_kind}'\")"
   ]
  },
  {
   "cell_type": "markdown",
   "metadata": {},
   "source": [
    "### Looking for data"
   ]
  },
  {
   "cell_type": "markdown",
   "metadata": {},
   "source": [
    "**Q:** Using [out()](http://orientdb.com/docs/last/Tutorial-Working-with-graphs.html#querying-graphs) function, display all vertices connected and outgoing from Zeus.\n",
    "\n",
    "You should use the EXPAND() special function to transform the vertex collection in the result-set by expanding it, making the results more readable."
   ]
  },
  {
   "cell_type": "code",
   "execution_count": 14,
   "metadata": {},
   "outputs": [
    {
     "name": "stdout",
     "output_type": "stream",
     "text": [
      "{{'value': 'Poséidon'},'version':0,'rid':'#-1:-1'}\n",
      "{{'value': 'Héra'},'version':0,'rid':'#-1:-1'}\n",
      "{{'value': 'Arès'},'version':0,'rid':'#-1:-1'}\n",
      "{{'value': 'Athena'},'version':0,'rid':'#-1:-1'}\n"
     ]
    }
   ],
   "source": [
    "edges = client.command( \"SELECT expand(out().name) FROM V WHERE name = 'Zeus'\" )\n",
    "for e in edges:\n",
    "    print(e)"
   ]
  },
  {
   "cell_type": "markdown",
   "metadata": {},
   "source": [
    "**Q:** Display all vertices which got a father (the vertices which are the destination of an arc whose kind attribute is father).\n",
    "\n",
    "_Hint: You can notice that we use the field `in` the arc, and not the function `in()` which applies to vertices._"
   ]
  },
  {
   "cell_type": "code",
   "execution_count": 15,
   "metadata": {},
   "outputs": [
    {
     "name": "stdout",
     "output_type": "stream",
     "text": [
      "{'@V':{'in_': <pyorient.otypes.OrientBinaryObject object at 0x1048b8810>, 'name': 'Arès', 'symbol': 'weapons'},'version':3,'rid':'#13:0'}\n",
      "{'@V':{'name': 'Athena', 'symbol': 'helmet', 'in_': <pyorient.otypes.OrientBinaryObject object at 0x10492ca10>},'version':2,'rid':'#12:0'}\n"
     ]
    }
   ],
   "source": [
    "edges = client.command( \"SELECT expand(in) FROM E WHERE kind = 'father'\" )\n",
    "for e in edges:\n",
    "    print(e)"
   ]
  },
  {
   "cell_type": "markdown",
   "metadata": {},
   "source": [
    "**Q:** As in SQL, the operator `in` used in a clause `where` allows to restrict the possible values with an embedded query _(where ... in (select ...))_. \n",
    "\n",
    "Display the mothers, by displaying the vertices where an outgoing arc is part of the arcs where kind is a mother."
   ]
  },
  {
   "cell_type": "code",
   "execution_count": 16,
   "metadata": {},
   "outputs": [
    {
     "name": "stdout",
     "output_type": "stream",
     "text": [
      "Héra\n"
     ]
    }
   ],
   "source": [
    "V = client.command( \"SELECT * FROM V WHERE @rid in (SELECT out FROM E where kind = 'mother')\" )# \n",
    "for e in V:\n",
    "    print(e.name)"
   ]
  },
  {
   "cell_type": "markdown",
   "metadata": {},
   "source": [
    "**Q:** Display the brothers and sisters of Zeus (the destination summits of an arc whose kind is sibling and whose original summit is Zeus)."
   ]
  },
  {
   "cell_type": "code",
   "execution_count": 17,
   "metadata": {},
   "outputs": [
    {
     "name": "stdout",
     "output_type": "stream",
     "text": [
      "Poséidon\n",
      "Héra\n",
      "Zeus\n",
      "Zeus\n"
     ]
    }
   ],
   "source": [
    "# Todo\n",
    "edges = client.command( \"SELECT expand(in) FROM E WHERE kind = 'sibling'\" )\n",
    "for e in edges:\n",
    "    print(e.name)"
   ]
  },
  {
   "cell_type": "markdown",
   "metadata": {},
   "source": [
    "## Modeling a Product Recommendation System"
   ]
  },
  {
   "cell_type": "markdown",
   "metadata": {},
   "source": [
    "You are currently modeling the data of a product recommendation system with OrientDB.\n",
    "\n",
    "The main purpose of such a system is to answer the question \"which products were purchased by their people who purchased product X? »\n",
    "\n",
    "Purchased products have only one name field. They are purchased by people who have a nickname.\n",
    "\n",
    "When a person buys a product, the date of purchase is stored. \n",
    "\n",
    "Instead of working with \"anonymous\" vertices and arcs, you will use classes. The `create class` command allows you to create custom classes.\n",
    "\n",
    "The vertex classes must extend V, the arc classes must extend E."
   ]
  },
  {
   "cell_type": "markdown",
   "metadata": {},
   "source": [
    "**Q:** Create an `eCommerce` database, and the necessary classes to model the system.\n",
    "\n",
    "PS : you can view all classes in the database with :\n",
    "\n",
    "```python\n",
    "for name in client.command(\"SELECT name FROM (SELECT expand(classes) FROM metadata:schema)\"):\n",
    "    print(name)\n",
    "```"
   ]
  },
  {
   "cell_type": "code",
   "execution_count": 18,
   "metadata": {},
   "outputs": [
    {
     "data": {
      "text/plain": [
       "[<pyorient.otypes.OrientCluster at 0x1049086d0>,\n",
       " <pyorient.otypes.OrientCluster at 0x1049093d0>,\n",
       " <pyorient.otypes.OrientCluster at 0x104922f50>,\n",
       " <pyorient.otypes.OrientCluster at 0x104922b90>,\n",
       " <pyorient.otypes.OrientCluster at 0x1049215d0>,\n",
       " <pyorient.otypes.OrientCluster at 0x104922c50>,\n",
       " <pyorient.otypes.OrientCluster at 0x104920350>,\n",
       " <pyorient.otypes.OrientCluster at 0x104923d50>,\n",
       " <pyorient.otypes.OrientCluster at 0x104922c10>,\n",
       " <pyorient.otypes.OrientCluster at 0x104922690>,\n",
       " <pyorient.otypes.OrientCluster at 0x104922d50>,\n",
       " <pyorient.otypes.OrientCluster at 0x104921690>,\n",
       " <pyorient.otypes.OrientCluster at 0x104923e10>,\n",
       " <pyorient.otypes.OrientCluster at 0x1049226d0>,\n",
       " <pyorient.otypes.OrientCluster at 0x104923510>,\n",
       " <pyorient.otypes.OrientCluster at 0x104920e50>,\n",
       " <pyorient.otypes.OrientCluster at 0x104922d90>,\n",
       " <pyorient.otypes.OrientCluster at 0x104920a90>,\n",
       " <pyorient.otypes.OrientCluster at 0x10492c110>,\n",
       " <pyorient.otypes.OrientCluster at 0x10492cf50>,\n",
       " <pyorient.otypes.OrientCluster at 0x10492e390>,\n",
       " <pyorient.otypes.OrientCluster at 0x10492e490>,\n",
       " <pyorient.otypes.OrientCluster at 0x10492e410>,\n",
       " <pyorient.otypes.OrientCluster at 0x10492e450>,\n",
       " <pyorient.otypes.OrientCluster at 0x10492e4d0>]"
      ]
     },
     "execution_count": 18,
     "metadata": {},
     "output_type": "execute_result"
    }
   ],
   "source": [
    "client.db_create('eCommerce', pyorient.DB_TYPE_GRAPH, pyorient.STORAGE_TYPE_MEMORY)\n",
    "client.db_open('eCommerce', \"root\", ROOT_PASSWORD)"
   ]
  },
  {
   "cell_type": "code",
   "execution_count": 19,
   "metadata": {},
   "outputs": [],
   "source": [
    "cluster_id = client.command( \"create class products extends V\" )"
   ]
  },
  {
   "cell_type": "code",
   "execution_count": 20,
   "metadata": {},
   "outputs": [],
   "source": [
    "cluster_id = client.command( \"create class clients extends V\" )"
   ]
  },
  {
   "cell_type": "markdown",
   "metadata": {},
   "source": [
    "**Q:** Create the following products: `spaghetti`, `bolognese sauce`, `cheese`, `apple`."
   ]
  },
  {
   "cell_type": "code",
   "execution_count": 21,
   "metadata": {},
   "outputs": [],
   "source": [
    "cluster_id = client.command(\"create property products.name String\")\n",
    "products = ['spaghetti', 'bolognese sauce', 'cheese', 'apple']\n",
    "for p in products:\n",
    "    client.command(f\"insert into products (name) values('{p}')\")"
   ]
  },
  {
   "cell_type": "markdown",
   "metadata": {},
   "source": [
    "**Q:** Create the following people: `peter`, `meredith`."
   ]
  },
  {
   "cell_type": "code",
   "execution_count": 22,
   "metadata": {},
   "outputs": [],
   "source": [
    "cluster_id = client.command(\"create property clients.nickname String\")\n",
    "clients = ['peter', 'meredith']\n",
    "for name in clients:\n",
    "    client.command(f\"insert into clients (nickname) values('{name}')\")"
   ]
  },
  {
   "cell_type": "markdown",
   "metadata": {},
   "source": [
    "**Q:** Create the following purchases: \n",
    "- peter > spaghetti + cheese on 20/01/2016 \n",
    "- meredith > cheese + apple + bolognese sauce on 22/01/2016\n",
    "- peter > spaghetti + bolognese sauce on 27/01/2016"
   ]
  },
  {
   "cell_type": "code",
   "execution_count": 23,
   "metadata": {},
   "outputs": [],
   "source": [
    "purchases = [('peter', ['spaghetti', 'cheese'], '10/01/2016'),\n",
    "             ('meredith', ['cheese', 'apple', 'bolognese sauce'], '22/01/2016'),\n",
    "             ('peter', ['spaghetti', 'bolognese sauce'], '27/01/2016')]\n",
    "for c, p, date in purchases:\n",
    "    client.command(f\"CREATE EDGE FROM (SELECT * FROM clients WHERE nickname = '{c}') TO (SELECT * FROM products WHERE name in {str(p)}) set date = '{date}'\")"
   ]
  },
  {
   "cell_type": "markdown",
   "metadata": {},
   "source": [
    "**Q:** Who bought Bolognese sauce?"
   ]
  },
  {
   "cell_type": "code",
   "execution_count": 24,
   "metadata": {},
   "outputs": [
    {
     "name": "stdout",
     "output_type": "stream",
     "text": [
      "Meredith\n",
      "Peter\n"
     ]
    }
   ],
   "source": [
    "edges = client.command(\"SELECT expand(in_) FROM products WHERE name = 'bolognese sauce'\")\n",
    "for e in edges:\n",
    "    client_ = client.command(f\"SELECT * FROM clients where @rid = '{e.out}'\")\n",
    "    print(client_[0].nickname.capitalize())"
   ]
  },
  {
   "cell_type": "markdown",
   "metadata": {},
   "source": [
    "**Q:** It is possible to link the `out` and `in` navigation functions. What products are purchased with Bolognese sauce? "
   ]
  },
  {
   "cell_type": "code",
   "execution_count": 25,
   "metadata": {},
   "outputs": [
    {
     "name": "stdout",
     "output_type": "stream",
     "text": [
      "Products purchased with 'bolognese sauce': {'spaghetti', 'cheese', 'apple'}\n"
     ]
    }
   ],
   "source": [
    "edges = client.command(\"SELECT expand(in().out()) FROM products WHERE name = 'bolognese sauce'\")\n",
    "products_ = []\n",
    "for e in edges:\n",
    "    if(e.name != 'bolognese sauce'):\n",
    "        products_.append(e.name)\n",
    "print(f\"Products purchased with 'bolognese sauce': {set(products_)}\")"
   ]
  },
  {
   "cell_type": "markdown",
   "metadata": {},
   "source": [
    "## Postquisites"
   ]
  },
  {
   "cell_type": "markdown",
   "metadata": {},
   "source": [
    "Since we create databases in memory, they get destroyed on server shutdown."
   ]
  }
 ],
 "metadata": {
  "kernelspec": {
   "display_name": "Python 3",
   "language": "python",
   "name": "python3"
  },
  "language_info": {
   "codemirror_mode": {
    "name": "ipython",
    "version": 3
   },
   "file_extension": ".py",
   "mimetype": "text/x-python",
   "name": "python",
   "nbconvert_exporter": "python",
   "pygments_lexer": "ipython3",
   "version": "3.11.6"
  }
 },
 "nbformat": 4,
 "nbformat_minor": 2
}
